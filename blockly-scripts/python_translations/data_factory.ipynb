{
 "cells": [
  {
   "cell_type": "code",
   "execution_count": 19,
   "metadata": {
    "ExecuteTime": {
     "start_time": "2023-04-21T14:30:41.317439Z",
     "end_time": "2023-04-21T14:30:42.544907Z"
    },
    "collapsed": true
   },
   "outputs": [
    {
     "ename": "ModuleNotFoundError",
     "evalue": "No module named 'uav_trajectory'",
     "output_type": "error",
     "traceback": [
      "\u001B[1;31m---------------------------------------------------------------------------\u001B[0m",
      "\u001B[1;31mModuleNotFoundError\u001B[0m                       Traceback (most recent call last)",
      "Input \u001B[1;32mIn [19]\u001B[0m, in \u001B[0;36m<cell line: 1>\u001B[1;34m()\u001B[0m\n\u001B[1;32m----> 1\u001B[0m \u001B[38;5;28;01mfrom\u001B[39;00m \u001B[38;5;21;01mgenerate_trajectory\u001B[39;00m\u001B[38;5;21;01m.\u001B[39;00m\u001B[38;5;21;01mgenerate_trajectory\u001B[39;00m \u001B[38;5;28;01mimport\u001B[39;00m \u001B[38;5;241m*\u001B[39m\n\u001B[0;32m      2\u001B[0m \u001B[38;5;28;01mfrom\u001B[39;00m \u001B[38;5;21;01mgenerate_trajectory\u001B[39;00m\u001B[38;5;21;01m.\u001B[39;00m\u001B[38;5;21;01mplot_trajectory\u001B[39;00m \u001B[38;5;28;01mimport\u001B[39;00m \u001B[38;5;241m*\u001B[39m\n",
      "File \u001B[1;32m~\\Desktop\\Spring2023\\cs1970 drone\\MultiRobotArt\\blockly-scripts\\python_translations\\generate_trajectory\\generate_trajectory.py:7\u001B[0m, in \u001B[0;36m<module>\u001B[1;34m\u001B[0m\n\u001B[0;32m      5\u001B[0m \u001B[38;5;28;01mimport\u001B[39;00m \u001B[38;5;21;01mnumpy\u001B[39;00m \u001B[38;5;28;01mas\u001B[39;00m \u001B[38;5;21;01mnp\u001B[39;00m\n\u001B[0;32m      6\u001B[0m \u001B[38;5;28;01mimport\u001B[39;00m \u001B[38;5;21;01mscipy\u001B[39;00m\u001B[38;5;21;01m.\u001B[39;00m\u001B[38;5;21;01moptimize\u001B[39;00m\n\u001B[1;32m----> 7\u001B[0m \u001B[38;5;28;01mfrom\u001B[39;00m \u001B[38;5;21;01mcrazyflie_py\u001B[39;00m \u001B[38;5;28;01mimport\u001B[39;00m uav_trajectory\n\u001B[0;32m     10\u001B[0m \u001B[38;5;66;03m# computes the difference between current interpolation and desired values\u001B[39;00m\n\u001B[0;32m     11\u001B[0m \u001B[38;5;28;01mdef\u001B[39;00m \u001B[38;5;21mfunc\u001B[39m(coefficients, times, values, piece_length):\n",
      "\u001B[1;31mModuleNotFoundError\u001B[0m: No module named 'uav_trajectory'"
     ]
    }
   ],
   "source": [
    "from generate_trajectory.generate_trajectory import *\n",
    "from generate_trajectory.plot_trajectory import *"
   ]
  },
  {
   "cell_type": "code",
   "execution_count": 16,
   "metadata": {
    "ExecuteTime": {
     "start_time": "2023-04-21T14:33:30.979737Z",
     "end_time": "2023-04-21T14:33:30.994844Z"
    },
    "collapsed": false
   },
   "outputs": [],
   "source": [
    "from curves_to_trajectory import curves\n",
    "\n",
    "def generate_test_data():\n",
    "    fx, fy = curves.circle_facing_constant((1, 0), 10)\n",
    "    print(\"Generating position data\")\n",
    "    generate_position_data(fx=fx, fy=fy,\n",
    "                           domain=(0, 10),\n",
    "                           output='pos.csv')\n",
    "    print(\"Generating trajectory\")\n",
    "    traj = generate_trajectory_from_file('pos.csv')\n",
    "    traj.savecsv('traj.csv')\n",
    "    print(\"Plotting\")\n",
    "    plot(traj)"
   ]
  },
  {
   "cell_type": "code",
   "execution_count": 15,
   "metadata": {
    "ExecuteTime": {
     "end_time": "2023-04-19T01:38:54.432533Z",
     "start_time": "2023-04-19T01:38:42.268583Z"
    },
    "collapsed": false
   },
   "outputs": [
    {
     "name": "stdout",
     "output_type": "stream",
     "text": [
      "Generating position data\n"
     ]
    },
    {
     "ename": "NameError",
     "evalue": "name 'generate_position_data' is not defined",
     "output_type": "error",
     "traceback": [
      "\u001B[1;31m---------------------------------------------------------------------------\u001B[0m",
      "\u001B[1;31mNameError\u001B[0m                                 Traceback (most recent call last)",
      "Input \u001B[1;32mIn [15]\u001B[0m, in \u001B[0;36m<cell line: 1>\u001B[1;34m()\u001B[0m\n\u001B[1;32m----> 1\u001B[0m \u001B[43mgenerate_test_data\u001B[49m\u001B[43m(\u001B[49m\u001B[43m)\u001B[49m\n",
      "Input \u001B[1;32mIn [14]\u001B[0m, in \u001B[0;36mgenerate_test_data\u001B[1;34m()\u001B[0m\n\u001B[0;32m      4\u001B[0m fx, fy \u001B[38;5;241m=\u001B[39m curves\u001B[38;5;241m.\u001B[39mcircle_facing_constant((\u001B[38;5;241m1\u001B[39m, \u001B[38;5;241m0\u001B[39m), \u001B[38;5;241m10\u001B[39m)\n\u001B[0;32m      5\u001B[0m \u001B[38;5;28mprint\u001B[39m(\u001B[38;5;124m\"\u001B[39m\u001B[38;5;124mGenerating position data\u001B[39m\u001B[38;5;124m\"\u001B[39m)\n\u001B[1;32m----> 6\u001B[0m \u001B[43mgenerate_position_data\u001B[49m(fx\u001B[38;5;241m=\u001B[39mfx, fy\u001B[38;5;241m=\u001B[39mfy,\n\u001B[0;32m      7\u001B[0m                        domain\u001B[38;5;241m=\u001B[39m(\u001B[38;5;241m0\u001B[39m, \u001B[38;5;241m10\u001B[39m),\n\u001B[0;32m      8\u001B[0m                        output\u001B[38;5;241m=\u001B[39m\u001B[38;5;124m'\u001B[39m\u001B[38;5;124mpos.csv\u001B[39m\u001B[38;5;124m'\u001B[39m)\n\u001B[0;32m      9\u001B[0m \u001B[38;5;28mprint\u001B[39m(\u001B[38;5;124m\"\u001B[39m\u001B[38;5;124mGenerating trajectory\u001B[39m\u001B[38;5;124m\"\u001B[39m)\n\u001B[0;32m     10\u001B[0m traj \u001B[38;5;241m=\u001B[39m generate_trajectory_from_file(\u001B[38;5;124m'\u001B[39m\u001B[38;5;124mpos.csv\u001B[39m\u001B[38;5;124m'\u001B[39m)\n",
      "\u001B[1;31mNameError\u001B[0m: name 'generate_position_data' is not defined"
     ]
    },
    {
     "data": {
      "text/plain": "<Figure size 432x288 with 1 Axes>",
      "image/png": "[encoded data removed]"
     },
     "metadata": {
      "needs_background": "light"
     },
     "output_type": "display_data"
    }
   ],
   "source": [
    "generate_test_data()"
   ]
  }
 ],
 "metadata": {
  "kernelspec": {
   "display_name": "Python 3",
   "language": "python",
   "name": "python3"
  },
  "language_info": {
   "codemirror_mode": {
    "name": "ipython",
    "version": 3
   },
   "file_extension": ".py",
   "mimetype": "text/x-python",
   "name": "python",
   "nbconvert_exporter": "python",
   "pygments_lexer": "ipython3",
   "version": "3.9.8"
  }
 },
 "nbformat": 4,
 "nbformat_minor": 0
}
